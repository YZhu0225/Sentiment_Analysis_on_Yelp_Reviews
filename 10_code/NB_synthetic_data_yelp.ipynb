{
 "cells": [
  {
   "cell_type": "code",
   "execution_count": 1,
   "id": "dcacb8dd",
   "metadata": {},
   "outputs": [],
   "source": [
    "import pandas as pd\n",
    "import numpy as np\n",
    "\n",
    "from sklearn.feature_extraction.text import CountVectorizer\n",
    "from sklearn.model_selection import train_test_split\n",
    "from sklearn.metrics import accuracy_score, confusion_matrix, classification_report\n",
    "from sklearn.naive_bayes import MultinomialNB"
   ]
  },
  {
   "cell_type": "code",
   "execution_count": 2,
   "id": "33406b75",
   "metadata": {},
   "outputs": [],
   "source": [
    "data = pd.read_csv('../00_source_data/synthetic_data_yelp.csv', encoding='latin-1')"
   ]
  },
  {
   "cell_type": "code",
   "execution_count": 3,
   "id": "27577b95",
   "metadata": {},
   "outputs": [
    {
     "data": {
      "text/html": [
       "<div>\n",
       "<style scoped>\n",
       "    .dataframe tbody tr th:only-of-type {\n",
       "        vertical-align: middle;\n",
       "    }\n",
       "\n",
       "    .dataframe tbody tr th {\n",
       "        vertical-align: top;\n",
       "    }\n",
       "\n",
       "    .dataframe thead th {\n",
       "        text-align: right;\n",
       "    }\n",
       "</style>\n",
       "<table border=\"1\" class=\"dataframe\">\n",
       "  <thead>\n",
       "    <tr style=\"text-align: right;\">\n",
       "      <th></th>\n",
       "      <th>label</th>\n",
       "      <th>text</th>\n",
       "    </tr>\n",
       "  </thead>\n",
       "  <tbody>\n",
       "    <tr>\n",
       "      <th>0</th>\n",
       "      <td>1</td>\n",
       "      <td>kind husband tall chair would ok</td>\n",
       "    </tr>\n",
       "    <tr>\n",
       "      <th>1</th>\n",
       "      <td>1</td>\n",
       "      <td>even eat tast what white wine cocktail get bot...</td>\n",
       "    </tr>\n",
       "    <tr>\n",
       "      <th>2</th>\n",
       "      <td>1</td>\n",
       "      <td>pro friendli lot disgust woman entir time cold...</td>\n",
       "    </tr>\n",
       "    <tr>\n",
       "      <th>3</th>\n",
       "      <td>1</td>\n",
       "      <td>first experi ever companynnat first stop look ...</td>\n",
       "    </tr>\n",
       "    <tr>\n",
       "      <th>4</th>\n",
       "      <td>1</td>\n",
       "      <td>place went chicken awfulsnnnpleas pleas use fi...</td>\n",
       "    </tr>\n",
       "  </tbody>\n",
       "</table>\n",
       "</div>"
      ],
      "text/plain": [
       "   label                                               text\n",
       "0      1                   kind husband tall chair would ok\n",
       "1      1  even eat tast what white wine cocktail get bot...\n",
       "2      1  pro friendli lot disgust woman entir time cold...\n",
       "3      1  first experi ever companynnat first stop look ...\n",
       "4      1  place went chicken awfulsnnnpleas pleas use fi..."
      ]
     },
     "execution_count": 3,
     "metadata": {},
     "output_type": "execute_result"
    }
   ],
   "source": [
    "data.head()"
   ]
  },
  {
   "cell_type": "code",
   "execution_count": 4,
   "id": "13e43acf",
   "metadata": {},
   "outputs": [
    {
     "name": "stdout",
     "output_type": "stream",
     "text": [
      "Training set\n",
      "Accuracy:  0.94275\n",
      "Confusion Matrix: \n",
      "[[3816  172]\n",
      " [ 286 3726]]\n",
      "Classification Report: \n",
      "              precision    recall  f1-score   support\n",
      "\n",
      "           1       0.93      0.96      0.94      3988\n",
      "           2       0.96      0.93      0.94      4012\n",
      "\n",
      "    accuracy                           0.94      8000\n",
      "   macro avg       0.94      0.94      0.94      8000\n",
      "weighted avg       0.94      0.94      0.94      8000\n",
      "\n",
      "=====================================\n",
      "Test set\n",
      "Accuracy: \n",
      "0.9015\n",
      "Confusion Matrix: \n",
      "[[939  73]\n",
      " [124 864]]\n",
      "Classification Report: \n",
      "              precision    recall  f1-score   support\n",
      "\n",
      "           1       0.88      0.93      0.91      1012\n",
      "           2       0.92      0.87      0.90       988\n",
      "\n",
      "    accuracy                           0.90      2000\n",
      "   macro avg       0.90      0.90      0.90      2000\n",
      "weighted avg       0.90      0.90      0.90      2000\n",
      "\n"
     ]
    }
   ],
   "source": [
    "data.dropna(inplace=True)\n",
    "# split data into train and test\n",
    "X_train, X_test, y_train, y_test = train_test_split(data['text'], data['label'], test_size=0.2,random_state=42)\n",
    "\n",
    "# CounterVectizor\n",
    "cv = CountVectorizer()\n",
    "X_train_cv = cv.fit_transform(X_train)\n",
    "X_test_cv = cv.transform(X_test)\n",
    "\n",
    "# training classifier with NB\n",
    "nb = MultinomialNB()\n",
    "nb.fit(X_train_cv, y_train)\n",
    "\n",
    "# print prediction and metrics on training set\n",
    "y_pred_tr = nb.predict(X_train_cv)\n",
    "print('Training set')\n",
    "print('Accuracy: ', accuracy_score(y_train, y_pred_tr))\n",
    "print('Confusion Matrix: ')\n",
    "print(confusion_matrix(y_train, y_pred_tr))\n",
    "print('Classification Report: ')\n",
    "print(classification_report(y_train, y_pred_tr))\n",
    "print('=====================================')\n",
    "\n",
    "# print prediction and metrics on test set\n",
    "y_pred_te = nb.predict(X_test_cv)\n",
    "print('Test set')\n",
    "print('Accuracy: ')\n",
    "print(accuracy_score(y_test, y_pred_te))\n",
    "print('Confusion Matrix: ')\n",
    "print(confusion_matrix(y_test, y_pred_te))\n",
    "print('Classification Report: ')\n",
    "print(classification_report(y_test, y_pred_te))"
   ]
  },
  {
   "cell_type": "code",
   "execution_count": null,
   "id": "9ea95b51",
   "metadata": {},
   "outputs": [],
   "source": []
  }
 ],
 "metadata": {
  "kernelspec": {
   "display_name": "Python 3 (ipykernel)",
   "language": "python",
   "name": "python3"
  },
  "language_info": {
   "codemirror_mode": {
    "name": "ipython",
    "version": 3
   },
   "file_extension": ".py",
   "mimetype": "text/x-python",
   "name": "python",
   "nbconvert_exporter": "python",
   "pygments_lexer": "ipython3",
   "version": "3.9.12"
  }
 },
 "nbformat": 4,
 "nbformat_minor": 5
}

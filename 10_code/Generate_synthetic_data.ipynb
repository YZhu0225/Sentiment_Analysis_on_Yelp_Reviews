{
 "cells": [
  {
   "cell_type": "code",
   "execution_count": 12,
   "id": "833395c2",
   "metadata": {},
   "outputs": [],
   "source": [
    "import pandas as pd\n",
    "import numpy as np\n",
    "from nltk.tokenize import word_tokenize"
   ]
  },
  {
   "cell_type": "code",
   "execution_count": 2,
   "id": "7dd00ae6",
   "metadata": {},
   "outputs": [],
   "source": [
    "data = pd.read_csv('../00_source_data/preprocessed_data_yelp.csv', encoding='latin-1')"
   ]
  },
  {
   "cell_type": "code",
   "execution_count": 3,
   "id": "dc5e1f5d",
   "metadata": {},
   "outputs": [
    {
     "data": {
      "text/html": [
       "<div>\n",
       "<style scoped>\n",
       "    .dataframe tbody tr th:only-of-type {\n",
       "        vertical-align: middle;\n",
       "    }\n",
       "\n",
       "    .dataframe tbody tr th {\n",
       "        vertical-align: top;\n",
       "    }\n",
       "\n",
       "    .dataframe thead th {\n",
       "        text-align: right;\n",
       "    }\n",
       "</style>\n",
       "<table border=\"1\" class=\"dataframe\">\n",
       "  <thead>\n",
       "    <tr style=\"text-align: right;\">\n",
       "      <th></th>\n",
       "      <th>label</th>\n",
       "      <th>text</th>\n",
       "    </tr>\n",
       "  </thead>\n",
       "  <tbody>\n",
       "    <tr>\n",
       "      <th>0</th>\n",
       "      <td>2</td>\n",
       "      <td>contrari review zero complaint servic price ge...</td>\n",
       "    </tr>\n",
       "    <tr>\n",
       "      <th>1</th>\n",
       "      <td>1</td>\n",
       "      <td>last summer appoint get new tire wait super lo...</td>\n",
       "    </tr>\n",
       "    <tr>\n",
       "      <th>2</th>\n",
       "      <td>2</td>\n",
       "      <td>friendli staff starbuck fair get anywher els s...</td>\n",
       "    </tr>\n",
       "    <tr>\n",
       "      <th>3</th>\n",
       "      <td>1</td>\n",
       "      <td>food good unfortun servic hit miss main issu s...</td>\n",
       "    </tr>\n",
       "    <tr>\n",
       "      <th>4</th>\n",
       "      <td>2</td>\n",
       "      <td>even didnt car filen basement worth bu trip wa...</td>\n",
       "    </tr>\n",
       "  </tbody>\n",
       "</table>\n",
       "</div>"
      ],
      "text/plain": [
       "   label                                               text\n",
       "0      2  contrari review zero complaint servic price ge...\n",
       "1      1  last summer appoint get new tire wait super lo...\n",
       "2      2  friendli staff starbuck fair get anywher els s...\n",
       "3      1  food good unfortun servic hit miss main issu s...\n",
       "4      2  even didnt car filen basement worth bu trip wa..."
      ]
     },
     "execution_count": 3,
     "metadata": {},
     "output_type": "execute_result"
    }
   ],
   "source": [
    "data.head()"
   ]
  },
  {
   "cell_type": "code",
   "execution_count": 4,
   "id": "be4c8b82",
   "metadata": {},
   "outputs": [],
   "source": [
    "# tokenize the text\n",
    "data[\"split_data\"] = data[\"text\"].apply(lambda x: [\"#S\"]+word_tokenize(str(x))+[\"#E\"])"
   ]
  },
  {
   "cell_type": "code",
   "execution_count": 5,
   "id": "725b58af",
   "metadata": {},
   "outputs": [
    {
     "data": {
      "text/html": [
       "<div>\n",
       "<style scoped>\n",
       "    .dataframe tbody tr th:only-of-type {\n",
       "        vertical-align: middle;\n",
       "    }\n",
       "\n",
       "    .dataframe tbody tr th {\n",
       "        vertical-align: top;\n",
       "    }\n",
       "\n",
       "    .dataframe thead th {\n",
       "        text-align: right;\n",
       "    }\n",
       "</style>\n",
       "<table border=\"1\" class=\"dataframe\">\n",
       "  <thead>\n",
       "    <tr style=\"text-align: right;\">\n",
       "      <th></th>\n",
       "      <th>label</th>\n",
       "      <th>text</th>\n",
       "      <th>split_data</th>\n",
       "    </tr>\n",
       "  </thead>\n",
       "  <tbody>\n",
       "    <tr>\n",
       "      <th>0</th>\n",
       "      <td>2</td>\n",
       "      <td>contrari review zero complaint servic price ge...</td>\n",
       "      <td>[#S, contrari, review, zero, complaint, servic...</td>\n",
       "    </tr>\n",
       "    <tr>\n",
       "      <th>1</th>\n",
       "      <td>1</td>\n",
       "      <td>last summer appoint get new tire wait super lo...</td>\n",
       "      <td>[#S, last, summer, appoint, get, new, tire, wa...</td>\n",
       "    </tr>\n",
       "    <tr>\n",
       "      <th>2</th>\n",
       "      <td>2</td>\n",
       "      <td>friendli staff starbuck fair get anywher els s...</td>\n",
       "      <td>[#S, friendli, staff, starbuck, fair, get, any...</td>\n",
       "    </tr>\n",
       "    <tr>\n",
       "      <th>3</th>\n",
       "      <td>1</td>\n",
       "      <td>food good unfortun servic hit miss main issu s...</td>\n",
       "      <td>[#S, food, good, unfortun, servic, hit, miss, ...</td>\n",
       "    </tr>\n",
       "    <tr>\n",
       "      <th>4</th>\n",
       "      <td>2</td>\n",
       "      <td>even didnt car filen basement worth bu trip wa...</td>\n",
       "      <td>[#S, even, didnt, car, filen, basement, worth,...</td>\n",
       "    </tr>\n",
       "  </tbody>\n",
       "</table>\n",
       "</div>"
      ],
      "text/plain": [
       "   label                                               text  \\\n",
       "0      2  contrari review zero complaint servic price ge...   \n",
       "1      1  last summer appoint get new tire wait super lo...   \n",
       "2      2  friendli staff starbuck fair get anywher els s...   \n",
       "3      1  food good unfortun servic hit miss main issu s...   \n",
       "4      2  even didnt car filen basement worth bu trip wa...   \n",
       "\n",
       "                                          split_data  \n",
       "0  [#S, contrari, review, zero, complaint, servic...  \n",
       "1  [#S, last, summer, appoint, get, new, tire, wa...  \n",
       "2  [#S, friendli, staff, starbuck, fair, get, any...  \n",
       "3  [#S, food, good, unfortun, servic, hit, miss, ...  \n",
       "4  [#S, even, didnt, car, filen, basement, worth,...  "
      ]
     },
     "execution_count": 5,
     "metadata": {},
     "output_type": "execute_result"
    }
   ],
   "source": [
    "data.head()"
   ]
  },
  {
   "cell_type": "code",
   "execution_count": 6,
   "id": "bb1b8871",
   "metadata": {},
   "outputs": [],
   "source": [
    "# calculate the frequency of the appereance of each word in different labels\n",
    "dictionary = {}\n",
    "for index, row in data.iterrows():\n",
    "    text = set(row[\"split_data\"])\n",
    "    for word in text:\n",
    "        dictionary[word] = dictionary.get(word, {1: 0, 2: 0})\n",
    "        dictionary[word][row[\"label\"]] += 1"
   ]
  },
  {
   "cell_type": "code",
   "execution_count": 7,
   "id": "89bf1b2d",
   "metadata": {},
   "outputs": [],
   "source": [
    "# Construct three dictionaries for conditional probability for each individual word, given different labels\n",
    "tempdict = [{},{}]\n",
    "sentences = []\n",
    "sentences.append(data[data[\"label\"] == 1][\"split_data\"].values)\n",
    "sentences.append(data[data[\"label\"] == 2][\"split_data\"].values)\n",
    "\n",
    "for i in range(2):\n",
    "    for j in range(len(sentences[i])):\n",
    "        tempdict[i][j]={}\n",
    "        for t in range(len(sentences[i][j])):\n",
    "            word = sentences[i][j][t]\n",
    "            tempdict[i][j][word] = tempdict[i][j].get(word,[])\n",
    "            tempdict[i][j][word].append(t)"
   ]
  },
  {
   "cell_type": "code",
   "execution_count": 8,
   "id": "25e9cbe0",
   "metadata": {},
   "outputs": [],
   "source": [
    "def getConditionalProbability(word, tempdict, sentences):\n",
    "    d = {}\n",
    "    allNextWords = 0\n",
    "    for i, value in tempdict.items():\n",
    "        nextArr = value.get(word, [])\n",
    "        for wordIndex in nextArr:\n",
    "            try:\n",
    "                nexWord = sentences[i][wordIndex + 1]\n",
    "                d[nexWord] = d.get(nexWord, 0)\n",
    "                d[nexWord] += 1\n",
    "                allNextWords += 1\n",
    "            except:\n",
    "                pass\n",
    "    d1 = {}\n",
    "    for key, value in d.items():\n",
    "        d1[key] = value / allNextWords\n",
    "    return d1"
   ]
  },
  {
   "cell_type": "code",
   "execution_count": 9,
   "id": "5c5d26de",
   "metadata": {},
   "outputs": [],
   "source": [
    "# Calculate conditional probability for each word in different labels\n",
    "conditionalProbDictLabel = [{},{}]\n",
    "for i in range(2):\n",
    "    for word in dictionary:\n",
    "        conditionalProbDictLabel[i][word] = getConditionalProbability(word,tempdict[i],sentences[i])"
   ]
  },
  {
   "cell_type": "code",
   "execution_count": 10,
   "id": "792ee3bf",
   "metadata": {},
   "outputs": [],
   "source": [
    "def getRandomWord(conditionalProbDictLabel, word):\n",
    "    d = conditionalProbDictLabel[word]\n",
    "    p = np.array(list(d.values()))\n",
    "    # Look at np.random.choice: Given the prob distribution of next word, we random select word based on given probability\n",
    "    if list(d.keys()) != []:\n",
    "        nextWord = np.random.choice(list(d.keys()), p=p.ravel())\n",
    "    else:\n",
    "        nextWord = \"#E\"\n",
    "    return nextWord"
   ]
  },
  {
   "cell_type": "code",
   "execution_count": 13,
   "id": "a6302355",
   "metadata": {},
   "outputs": [],
   "source": [
    "generateLabel = [[],[]]\n",
    "for i in range(2):\n",
    "    for j in range(5000):\n",
    "        nextWord = getRandomWord(conditionalProbDictLabel[i], \"#S\")\n",
    "        text = [\"#S\", nextWord]\n",
    "        for t in range(500):  # sentence max lengh\n",
    "            nextWord = getRandomWord(conditionalProbDictLabel[i], nextWord)\n",
    "            text.append(nextWord)\n",
    "            if nextWord == \"#E\":\n",
    "                break\n",
    "        generateLabel[i].append(text)"
   ]
  },
  {
   "cell_type": "code",
   "execution_count": 14,
   "id": "039175a2",
   "metadata": {},
   "outputs": [],
   "source": [
    "generateLabelText = []\n",
    "label = [1,2]\n",
    "for i in range(2):\n",
    "    for item in generateLabel[i]:\n",
    "        if item[0] == \"#S\":\n",
    "            item = item[1:]\n",
    "        if item[-1] == \"#E\":\n",
    "            item = item[:-1]\n",
    "        generateLabelText.append({\"label\": label[i], \"text\": \" \".join(item)})\n",
    "generateLabelTextDf = pd.DataFrame(generateLabelText)"
   ]
  },
  {
   "cell_type": "code",
   "execution_count": 15,
   "id": "23152592",
   "metadata": {},
   "outputs": [
    {
     "data": {
      "text/html": [
       "<div>\n",
       "<style scoped>\n",
       "    .dataframe tbody tr th:only-of-type {\n",
       "        vertical-align: middle;\n",
       "    }\n",
       "\n",
       "    .dataframe tbody tr th {\n",
       "        vertical-align: top;\n",
       "    }\n",
       "\n",
       "    .dataframe thead th {\n",
       "        text-align: right;\n",
       "    }\n",
       "</style>\n",
       "<table border=\"1\" class=\"dataframe\">\n",
       "  <thead>\n",
       "    <tr style=\"text-align: right;\">\n",
       "      <th></th>\n",
       "      <th>label</th>\n",
       "      <th>text</th>\n",
       "    </tr>\n",
       "  </thead>\n",
       "  <tbody>\n",
       "    <tr>\n",
       "      <th>442</th>\n",
       "      <td>1</td>\n",
       "      <td>went le ramado brufblu et il aussi fallu quon ...</td>\n",
       "    </tr>\n",
       "    <tr>\n",
       "      <th>2486</th>\n",
       "      <td>1</td>\n",
       "      <td>updat everyon els eat</td>\n",
       "    </tr>\n",
       "    <tr>\n",
       "      <th>2</th>\n",
       "      <td>1</td>\n",
       "      <td>pro friendli lot disgust woman entir time cold...</td>\n",
       "    </tr>\n",
       "    <tr>\n",
       "      <th>3164</th>\n",
       "      <td>1</td>\n",
       "      <td>fyi place guess order chili chees omelett medi...</td>\n",
       "    </tr>\n",
       "    <tr>\n",
       "      <th>9890</th>\n",
       "      <td>2</td>\n",
       "      <td>im give tip meal like outstand though girl ano...</td>\n",
       "    </tr>\n",
       "    <tr>\n",
       "      <th>7338</th>\n",
       "      <td>2</td>\n",
       "      <td>wow talk food pretti order uni blue crab leg s...</td>\n",
       "    </tr>\n",
       "    <tr>\n",
       "      <th>5043</th>\n",
       "      <td>2</td>\n",
       "      <td>stop nnfor lunch menu littl weird think check ...</td>\n",
       "    </tr>\n",
       "    <tr>\n",
       "      <th>5737</th>\n",
       "      <td>2</td>\n",
       "      <td>king bed tast decor barbershop certainli hit c...</td>\n",
       "    </tr>\n",
       "    <tr>\n",
       "      <th>4912</th>\n",
       "      <td>1</td>\n",
       "      <td>took minut late nnfinal decisionni doubt think...</td>\n",
       "    </tr>\n",
       "    <tr>\n",
       "      <th>8924</th>\n",
       "      <td>2</td>\n",
       "      <td>wow amaz nthe jalapeufo cornbread stuf potato ...</td>\n",
       "    </tr>\n",
       "  </tbody>\n",
       "</table>\n",
       "</div>"
      ],
      "text/plain": [
       "      label                                               text\n",
       "442       1  went le ramado brufblu et il aussi fallu quon ...\n",
       "2486      1                              updat everyon els eat\n",
       "2         1  pro friendli lot disgust woman entir time cold...\n",
       "3164      1  fyi place guess order chili chees omelett medi...\n",
       "9890      2  im give tip meal like outstand though girl ano...\n",
       "7338      2  wow talk food pretti order uni blue crab leg s...\n",
       "5043      2  stop nnfor lunch menu littl weird think check ...\n",
       "5737      2  king bed tast decor barbershop certainli hit c...\n",
       "4912      1  took minut late nnfinal decisionni doubt think...\n",
       "8924      2  wow amaz nthe jalapeufo cornbread stuf potato ..."
      ]
     },
     "execution_count": 15,
     "metadata": {},
     "output_type": "execute_result"
    }
   ],
   "source": [
    "generateLabelTextDf.sample(10)"
   ]
  },
  {
   "cell_type": "code",
   "execution_count": 16,
   "id": "aa690e7a",
   "metadata": {},
   "outputs": [],
   "source": [
    "generateLabelTextDf.to_csv('../00_source_data/synthetic_data_yelp.csv',index=False, encoding='latin-1')"
   ]
  },
  {
   "cell_type": "code",
   "execution_count": null,
   "id": "b07c3d2b",
   "metadata": {},
   "outputs": [],
   "source": []
  }
 ],
 "metadata": {
  "kernelspec": {
   "display_name": "Python 3 (ipykernel)",
   "language": "python",
   "name": "python3"
  },
  "language_info": {
   "codemirror_mode": {
    "name": "ipython",
    "version": 3
   },
   "file_extension": ".py",
   "mimetype": "text/x-python",
   "name": "python",
   "nbconvert_exporter": "python",
   "pygments_lexer": "ipython3",
   "version": "3.9.12"
  }
 },
 "nbformat": 4,
 "nbformat_minor": 5
}

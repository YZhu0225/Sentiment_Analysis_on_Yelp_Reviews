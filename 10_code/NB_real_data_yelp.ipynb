{
 "cells": [
  {
   "cell_type": "code",
   "execution_count": 24,
   "id": "b82dab77",
   "metadata": {},
   "outputs": [],
   "source": [
    "import pandas as pd\n",
    "import numpy as np\n",
    "\n",
    "from sklearn.feature_extraction.text import CountVectorizer\n",
    "from sklearn.model_selection import train_test_split\n",
    "from sklearn.metrics import accuracy_score, confusion_matrix, classification_report\n",
    "from sklearn.naive_bayes import MultinomialNB"
   ]
  },
  {
   "cell_type": "code",
   "execution_count": 26,
   "id": "9569bcde",
   "metadata": {},
   "outputs": [],
   "source": [
    "data = pd.read_csv('../00_source_data/preprocessed_data_yelp.csv', encoding='latin-1')"
   ]
  },
  {
   "cell_type": "code",
   "execution_count": 27,
   "id": "2f6d0d2f",
   "metadata": {},
   "outputs": [
    {
     "data": {
      "text/html": [
       "<div>\n",
       "<style scoped>\n",
       "    .dataframe tbody tr th:only-of-type {\n",
       "        vertical-align: middle;\n",
       "    }\n",
       "\n",
       "    .dataframe tbody tr th {\n",
       "        vertical-align: top;\n",
       "    }\n",
       "\n",
       "    .dataframe thead th {\n",
       "        text-align: right;\n",
       "    }\n",
       "</style>\n",
       "<table border=\"1\" class=\"dataframe\">\n",
       "  <thead>\n",
       "    <tr style=\"text-align: right;\">\n",
       "      <th></th>\n",
       "      <th>label</th>\n",
       "      <th>text</th>\n",
       "    </tr>\n",
       "  </thead>\n",
       "  <tbody>\n",
       "    <tr>\n",
       "      <th>0</th>\n",
       "      <td>2</td>\n",
       "      <td>contrari review zero complaint servic price ge...</td>\n",
       "    </tr>\n",
       "    <tr>\n",
       "      <th>1</th>\n",
       "      <td>1</td>\n",
       "      <td>last summer appoint get new tire wait super lo...</td>\n",
       "    </tr>\n",
       "    <tr>\n",
       "      <th>2</th>\n",
       "      <td>2</td>\n",
       "      <td>friendli staff starbuck fair get anywher els s...</td>\n",
       "    </tr>\n",
       "    <tr>\n",
       "      <th>3</th>\n",
       "      <td>1</td>\n",
       "      <td>food good unfortun servic hit miss main issu s...</td>\n",
       "    </tr>\n",
       "    <tr>\n",
       "      <th>4</th>\n",
       "      <td>2</td>\n",
       "      <td>even didnt car filen basement worth bu trip wa...</td>\n",
       "    </tr>\n",
       "  </tbody>\n",
       "</table>\n",
       "</div>"
      ],
      "text/plain": [
       "   label                                               text\n",
       "0      2  contrari review zero complaint servic price ge...\n",
       "1      1  last summer appoint get new tire wait super lo...\n",
       "2      2  friendli staff starbuck fair get anywher els s...\n",
       "3      1  food good unfortun servic hit miss main issu s...\n",
       "4      2  even didnt car filen basement worth bu trip wa..."
      ]
     },
     "execution_count": 27,
     "metadata": {},
     "output_type": "execute_result"
    }
   ],
   "source": [
    "data.head()"
   ]
  },
  {
   "cell_type": "code",
   "execution_count": 32,
   "id": "4fea7e87",
   "metadata": {},
   "outputs": [
    {
     "name": "stdout",
     "output_type": "stream",
     "text": [
      "Training set\n",
      "Accuracy:  0.9045363334320208\n",
      "Confusion Matrix: \n",
      "[[13728  1478]\n",
      " [ 1424 13769]]\n",
      "Classification Report: \n",
      "              precision    recall  f1-score   support\n",
      "\n",
      "           1       0.91      0.90      0.90     15206\n",
      "           2       0.90      0.91      0.90     15193\n",
      "\n",
      "    accuracy                           0.90     30399\n",
      "   macro avg       0.90      0.90      0.90     30399\n",
      "weighted avg       0.90      0.90      0.90     30399\n",
      "\n",
      "=====================================\n",
      "Test set\n",
      "Accuracy: \n",
      "0.8606578947368421\n",
      "Confusion Matrix: \n",
      "[[3278  515]\n",
      " [ 544 3263]]\n",
      "Classification Report: \n",
      "              precision    recall  f1-score   support\n",
      "\n",
      "           1       0.86      0.86      0.86      3793\n",
      "           2       0.86      0.86      0.86      3807\n",
      "\n",
      "    accuracy                           0.86      7600\n",
      "   macro avg       0.86      0.86      0.86      7600\n",
      "weighted avg       0.86      0.86      0.86      7600\n",
      "\n"
     ]
    }
   ],
   "source": [
    "data.dropna(inplace=True)\n",
    "# split data into train and test\n",
    "X_train, X_test, y_train, y_test = train_test_split(data['text'], data['label'], test_size=0.2,random_state=42)\n",
    "\n",
    "# CounterVectizor\n",
    "cv = CountVectorizer()\n",
    "X_train_cv = cv.fit_transform(X_train)\n",
    "X_test_cv = cv.transform(X_test)\n",
    "\n",
    "# training classifier with NB\n",
    "nb = MultinomialNB()\n",
    "nb.fit(X_train_cv, y_train)\n",
    "\n",
    "# print prediction and metrics on training set\n",
    "y_pred_tr = nb.predict(X_train_cv)\n",
    "print('Training set')\n",
    "print('Accuracy: ', accuracy_score(y_train, y_pred_tr))\n",
    "print('Confusion Matrix: ')\n",
    "print(confusion_matrix(y_train, y_pred_tr))\n",
    "print('Classification Report: ')\n",
    "print(classification_report(y_train, y_pred_tr))\n",
    "print('=====================================')\n",
    "\n",
    "# print prediction and metrics on test set\n",
    "y_pred_te = nb.predict(X_test_cv)\n",
    "print('Test set')\n",
    "print('Accuracy: ')\n",
    "print(accuracy_score(y_test, y_pred_te))\n",
    "print('Confusion Matrix: ')\n",
    "print(confusion_matrix(y_test, y_pred_te))\n",
    "print('Classification Report: ')\n",
    "print(classification_report(y_test, y_pred_te))"
   ]
  },
  {
   "cell_type": "code",
   "execution_count": null,
   "id": "11731a26",
   "metadata": {},
   "outputs": [],
   "source": []
  }
 ],
 "metadata": {
  "kernelspec": {
   "display_name": "Python 3 (ipykernel)",
   "language": "python",
   "name": "python3"
  },
  "language_info": {
   "codemirror_mode": {
    "name": "ipython",
    "version": 3
   },
   "file_extension": ".py",
   "mimetype": "text/x-python",
   "name": "python",
   "nbconvert_exporter": "python",
   "pygments_lexer": "ipython3",
   "version": "3.9.12"
  }
 },
 "nbformat": 4,
 "nbformat_minor": 5
}
